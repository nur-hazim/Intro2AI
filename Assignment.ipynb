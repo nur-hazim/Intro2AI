{
  "cells": [
    {
      "cell_type": "markdown",
      "metadata": {},
      "source": [
        "# <font color='#0080ff'> SC1015 DS Project </font>"
      ]
    },
    {
      "cell_type": "markdown",
      "metadata": {},
      "source": [
        "### Essential Libraries\n",
        "\n",
        "Let us begin by importing the essential Python Libraries.\n",
        "\n",
        "> NumPy : Library for Numeric Computations in Python  \n",
        "> Pandas : Library for Data Acquisition and Preparation  \n",
        "> Matplotlib : Low-level library for Data Visualization  \n",
        "> Seaborn : Higher-level library for Data Visualization  "
      ]
    },
    {
      "cell_type": "code",
      "execution_count": 32,
      "metadata": {},
      "outputs": [],
      "source": [
        "# Basic Libraries\n",
        "import numpy as np\n",
        "import pandas as pd\n",
        "import seaborn as sb\n",
        "import matplotlib.pyplot as plt # we only need pyplot\n",
        "sb.set() # set the default Seaborn style for graphics"
      ]
    },
    {
      "cell_type": "markdown",
      "metadata": {},
      "source": [
        "---\n",
        "\n",
        "### Import the Dataset\n",
        "\n",
        "The dataset is in CSV format; hence we use the `read_csv` function from Pandas.\n",
        "\n",
        "We use sep='\\t' to read tab-delineated data in csv format. \n",
        "\n",
        "Immediately after importing, take a quick look at the data using the `head` function."
      ]
    },
    {
      "cell_type": "code",
      "execution_count": 42,
      "metadata": {
        "id": "gwW5_BuTePDR"
      },
      "outputs": [
        {
          "data": {
            "text/html": [
              "<div>\n",
              "<style scoped>\n",
              "    .dataframe tbody tr th:only-of-type {\n",
              "        vertical-align: middle;\n",
              "    }\n",
              "\n",
              "    .dataframe tbody tr th {\n",
              "        vertical-align: top;\n",
              "    }\n",
              "\n",
              "    .dataframe thead th {\n",
              "        text-align: right;\n",
              "    }\n",
              "</style>\n",
              "<table border=\"1\" class=\"dataframe\">\n",
              "  <thead>\n",
              "    <tr style=\"text-align: right;\">\n",
              "      <th></th>\n",
              "      <th>ID</th>\n",
              "      <th>Year_Birth</th>\n",
              "      <th>Education</th>\n",
              "      <th>Marital_Status</th>\n",
              "      <th>Income</th>\n",
              "      <th>Kidhome</th>\n",
              "      <th>Teenhome</th>\n",
              "      <th>Dt_Customer</th>\n",
              "      <th>Recency</th>\n",
              "      <th>MntWines</th>\n",
              "      <th>...</th>\n",
              "      <th>NumWebVisitsMonth</th>\n",
              "      <th>AcceptedCmp3</th>\n",
              "      <th>AcceptedCmp4</th>\n",
              "      <th>AcceptedCmp5</th>\n",
              "      <th>AcceptedCmp1</th>\n",
              "      <th>AcceptedCmp2</th>\n",
              "      <th>Complain</th>\n",
              "      <th>Z_CostContact</th>\n",
              "      <th>Z_Revenue</th>\n",
              "      <th>Response\\r</th>\n",
              "    </tr>\n",
              "  </thead>\n",
              "  <tbody>\n",
              "    <tr>\n",
              "      <th>0</th>\n",
              "      <td>5524</td>\n",
              "      <td>1957</td>\n",
              "      <td>Graduation</td>\n",
              "      <td>Single</td>\n",
              "      <td>58138.0</td>\n",
              "      <td>0</td>\n",
              "      <td>0</td>\n",
              "      <td>04-09-2012</td>\n",
              "      <td>58</td>\n",
              "      <td>635</td>\n",
              "      <td>...</td>\n",
              "      <td>7</td>\n",
              "      <td>0</td>\n",
              "      <td>0</td>\n",
              "      <td>0</td>\n",
              "      <td>0</td>\n",
              "      <td>0</td>\n",
              "      <td>0</td>\n",
              "      <td>3</td>\n",
              "      <td>11</td>\n",
              "      <td>1</td>\n",
              "    </tr>\n",
              "    <tr>\n",
              "      <th>1</th>\n",
              "      <td>2174</td>\n",
              "      <td>1954</td>\n",
              "      <td>Graduation</td>\n",
              "      <td>Single</td>\n",
              "      <td>46344.0</td>\n",
              "      <td>1</td>\n",
              "      <td>1</td>\n",
              "      <td>08-03-2014</td>\n",
              "      <td>38</td>\n",
              "      <td>11</td>\n",
              "      <td>...</td>\n",
              "      <td>5</td>\n",
              "      <td>0</td>\n",
              "      <td>0</td>\n",
              "      <td>0</td>\n",
              "      <td>0</td>\n",
              "      <td>0</td>\n",
              "      <td>0</td>\n",
              "      <td>3</td>\n",
              "      <td>11</td>\n",
              "      <td>0</td>\n",
              "    </tr>\n",
              "    <tr>\n",
              "      <th>2</th>\n",
              "      <td>4141</td>\n",
              "      <td>1965</td>\n",
              "      <td>Graduation</td>\n",
              "      <td>Together</td>\n",
              "      <td>71613.0</td>\n",
              "      <td>0</td>\n",
              "      <td>0</td>\n",
              "      <td>21-08-2013</td>\n",
              "      <td>26</td>\n",
              "      <td>426</td>\n",
              "      <td>...</td>\n",
              "      <td>4</td>\n",
              "      <td>0</td>\n",
              "      <td>0</td>\n",
              "      <td>0</td>\n",
              "      <td>0</td>\n",
              "      <td>0</td>\n",
              "      <td>0</td>\n",
              "      <td>3</td>\n",
              "      <td>11</td>\n",
              "      <td>0</td>\n",
              "    </tr>\n",
              "    <tr>\n",
              "      <th>3</th>\n",
              "      <td>6182</td>\n",
              "      <td>1984</td>\n",
              "      <td>Graduation</td>\n",
              "      <td>Together</td>\n",
              "      <td>26646.0</td>\n",
              "      <td>1</td>\n",
              "      <td>0</td>\n",
              "      <td>10-02-2014</td>\n",
              "      <td>26</td>\n",
              "      <td>11</td>\n",
              "      <td>...</td>\n",
              "      <td>6</td>\n",
              "      <td>0</td>\n",
              "      <td>0</td>\n",
              "      <td>0</td>\n",
              "      <td>0</td>\n",
              "      <td>0</td>\n",
              "      <td>0</td>\n",
              "      <td>3</td>\n",
              "      <td>11</td>\n",
              "      <td>0</td>\n",
              "    </tr>\n",
              "    <tr>\n",
              "      <th>4</th>\n",
              "      <td>5324</td>\n",
              "      <td>1981</td>\n",
              "      <td>PhD</td>\n",
              "      <td>Married</td>\n",
              "      <td>58293.0</td>\n",
              "      <td>1</td>\n",
              "      <td>0</td>\n",
              "      <td>19-01-2014</td>\n",
              "      <td>94</td>\n",
              "      <td>173</td>\n",
              "      <td>...</td>\n",
              "      <td>5</td>\n",
              "      <td>0</td>\n",
              "      <td>0</td>\n",
              "      <td>0</td>\n",
              "      <td>0</td>\n",
              "      <td>0</td>\n",
              "      <td>0</td>\n",
              "      <td>3</td>\n",
              "      <td>11</td>\n",
              "      <td>0</td>\n",
              "    </tr>\n",
              "  </tbody>\n",
              "</table>\n",
              "<p>5 rows × 29 columns</p>\n",
              "</div>"
            ],
            "text/plain": [
              "     ID  Year_Birth   Education Marital_Status   Income  Kidhome  Teenhome  \\\n",
              "0  5524        1957  Graduation         Single  58138.0        0         0   \n",
              "1  2174        1954  Graduation         Single  46344.0        1         1   \n",
              "2  4141        1965  Graduation       Together  71613.0        0         0   \n",
              "3  6182        1984  Graduation       Together  26646.0        1         0   \n",
              "4  5324        1981         PhD        Married  58293.0        1         0   \n",
              "\n",
              "  Dt_Customer  Recency  MntWines  ...  NumWebVisitsMonth  AcceptedCmp3  \\\n",
              "0  04-09-2012       58       635  ...                  7             0   \n",
              "1  08-03-2014       38        11  ...                  5             0   \n",
              "2  21-08-2013       26       426  ...                  4             0   \n",
              "3  10-02-2014       26        11  ...                  6             0   \n",
              "4  19-01-2014       94       173  ...                  5             0   \n",
              "\n",
              "   AcceptedCmp4  AcceptedCmp5  AcceptedCmp1  AcceptedCmp2  Complain  \\\n",
              "0             0             0             0             0         0   \n",
              "1             0             0             0             0         0   \n",
              "2             0             0             0             0         0   \n",
              "3             0             0             0             0         0   \n",
              "4             0             0             0             0         0   \n",
              "\n",
              "   Z_CostContact  Z_Revenue  Response\\r  \n",
              "0              3         11           1  \n",
              "1              3         11           0  \n",
              "2              3         11           0  \n",
              "3              3         11           0  \n",
              "4              3         11           0  \n",
              "\n",
              "[5 rows x 29 columns]"
            ]
          },
          "execution_count": 42,
          "metadata": {},
          "output_type": "execute_result"
        }
      ],
      "source": [
        "marketingdata = pd.read_csv('marketing_campaign.csv', sep='\\t', lineterminator='\\n')\n",
        "marketingdata.head()"
      ]
    },
    {
      "cell_type": "markdown",
      "metadata": {},
      "source": [
        "We then check the other vital statistics of the data such as its `type` and `shape`"
      ]
    },
    {
      "cell_type": "code",
      "execution_count": 43,
      "metadata": {},
      "outputs": [
        {
          "name": "stdout",
          "output_type": "stream",
          "text": [
            "Type of the data: <class 'pandas.core.frame.DataFrame'>\n",
            "Dims of the data: (2240, 29)\n"
          ]
        }
      ],
      "source": [
        "print('Type of the data:', type(marketingdata))\n",
        "print('Dims of the data:', marketingdata.shape)\n"
      ]
    },
    {
      "cell_type": "markdown",
      "metadata": {},
      "source": [
        "Check the variables (and their types) in the dataset using the `dtypes` attribute."
      ]
    },
    {
      "cell_type": "code",
      "execution_count": 44,
      "metadata": {},
      "outputs": [
        {
          "name": "stdout",
          "output_type": "stream",
          "text": [
            "<class 'pandas.core.frame.DataFrame'>\n",
            "RangeIndex: 2240 entries, 0 to 2239\n",
            "Data columns (total 29 columns):\n",
            " #   Column               Non-Null Count  Dtype  \n",
            "---  ------               --------------  -----  \n",
            " 0   ID                   2240 non-null   int64  \n",
            " 1   Year_Birth           2240 non-null   int64  \n",
            " 2   Education            2240 non-null   object \n",
            " 3   Marital_Status       2240 non-null   object \n",
            " 4   Income               2216 non-null   float64\n",
            " 5   Kidhome              2240 non-null   int64  \n",
            " 6   Teenhome             2240 non-null   int64  \n",
            " 7   Dt_Customer          2240 non-null   object \n",
            " 8   Recency              2240 non-null   int64  \n",
            " 9   MntWines             2240 non-null   int64  \n",
            " 10  MntFruits            2240 non-null   int64  \n",
            " 11  MntMeatProducts      2240 non-null   int64  \n",
            " 12  MntFishProducts      2240 non-null   int64  \n",
            " 13  MntSweetProducts     2240 non-null   int64  \n",
            " 14  MntGoldProds         2240 non-null   int64  \n",
            " 15  NumDealsPurchases    2240 non-null   int64  \n",
            " 16  NumWebPurchases      2240 non-null   int64  \n",
            " 17  NumCatalogPurchases  2240 non-null   int64  \n",
            " 18  NumStorePurchases    2240 non-null   int64  \n",
            " 19  NumWebVisitsMonth    2240 non-null   int64  \n",
            " 20  AcceptedCmp3         2240 non-null   int64  \n",
            " 21  AcceptedCmp4         2240 non-null   int64  \n",
            " 22  AcceptedCmp5         2240 non-null   int64  \n",
            " 23  AcceptedCmp1         2240 non-null   int64  \n",
            " 24  AcceptedCmp2         2240 non-null   int64  \n",
            " 25  Complain             2240 non-null   int64  \n",
            " 26  Z_CostContact        2240 non-null   int64  \n",
            " 27  Z_Revenue            2240 non-null   int64  \n",
            "            2240 non-null   int64  \n",
            "dtypes: float64(1), int64(25), object(3)\n",
            "memory usage: 507.6+ KB\n"
          ]
        }
      ],
      "source": [
        "marketingdata.info()"
      ]
    },
    {
      "cell_type": "markdown",
      "metadata": {},
      "source": []
    },
    {
      "cell_type": "markdown",
      "metadata": {},
      "source": [
        "---\n",
        "## <font color = #0080ff> Context </font>\n",
        "Our group will be exploring this data set on Kaggle which is Customer Personalirt Analysis by Akash Patel.\n",
        "</br>Source: https://www.kaggle.com/imakash3011/customer-personality-analysis\n",
        "\n",
        "### <font color = #00cc99>Problem Statement(We can edit)</font>\n",
        "\n",
        "Customer Personality Analysis is a detailed analysis of a company’s ideal customers. It helps a business to better understand its customers and makes it easier for them to modify products according to the specific needs, behaviors and concerns of different types of customers.\n",
        "\n",
        "Customer personality analysis helps a business to modify its product based on its target customers from different types of customer segments. For example, instead of spending money to market a new product to every customer in the company’s database, a company can analyze which customer segment is most likely to buy the product and then market the product only on that particular segment.\n",
        "\n",
        "### <font color = #00cc99>Content </font>\n",
        "\n",
        "#### **Attributes**\n",
        "\n",
        "##### <font color = #ff9999>People</font>\n",
        "\n",
        ">* ID: Customer's unique identifier\n",
        ">* Year_Birth: Customer's birth year\n",
        ">* Education: Customer's education level\n",
        ">* Marital_Status: Customer's marital status\n",
        ">* Income: Customer's yearly household income\n",
        ">* Kidhome: Number of children in customer's household\n",
        ">* Teenhome: Number of teenagers in customer's household\n",
        ">* Dt_Customer: Date of customer's enrollment with the company\n",
        ">* Recency: Number of days since customer's last purchase\n",
        ">* Complain: 1 if the customer complained in the last 2 years, 0 otherwise\n",
        "\n",
        "##### <font color = #ff9999>Products</font>\n",
        "\n",
        ">* MntWines: Amount spent on wine in last 2 years\n",
        ">* MntFruits: Amount spent on fruits in last 2 years\n",
        ">* MntMeatProducts: Amount spent on meat in last 2 years\n",
        ">* MntFishProducts: Amount spent on fish in last 2 years\n",
        ">* MntSweetProducts: Amount spent on sweets in last 2 years\n",
        ">* MntGoldProds: Amount spent on gold in last 2 years\n",
        "\n",
        "##### <font color = #ff9999>Promotion</font>\n",
        "\n",
        ">* NumDealsPurchases: Number of purchases made with a discount\n",
        ">* AcceptedCmp1: 1 if customer accepted the offer in the 1st campaign, 0 otherwise\n",
        ">* AcceptedCmp2: 1 if customer accepted the offer in the 2nd campaign, 0 otherwise\n",
        ">* AcceptedCmp3: 1 if customer accepted the offer in the 3rd campaign, 0 otherwise\n",
        ">* AcceptedCmp4: 1 if customer accepted the offer in the 4th campaign, 0 otherwise\n",
        ">* AcceptedCmp5: 1 if customer accepted the offer in the 5th campaign, 0 otherwise\n",
        ">* Response: 1 if customer accepted the offer in the last campaign, 0 otherwise\n",
        "\n",
        "##### <font color = #ff9999>Place</font>\n",
        "\n",
        ">* NumWebPurchases: Number of purchases made through the company’s website\n",
        ">* NumCatalogPurchases: Number of purchases made using a catalogue\n",
        ">* NumStorePurchases: Number of purchases made directly in stores\n",
        ">* NumWebVisitsMonth: Number of visits to company’s website in the last month\n",
        "\n",
        "### <font color = #00cc99>Target (We can edit)</font>\n",
        "We will be performing **Classification** first to identify which factors which results in the greatest response which is the customer accepting the offer in the last campaign which allows the company to cater towards customers which fall within this category and also come up with new promotions or survey the customers which fall into the other category on why they did not follow up with the offer in the last campaign.\n",
        "\n",
        "Next we will perform **Clustering** to to cluster and find out which groups are more likely to accept the offer in the last campaign so that the company can focus their promotions to such customers more.\n",
        "\n",
        "### <font color = #00cc99>Acknowledgement</font>\n",
        "The dataset for this project is provided by Dr. Omar Romero-Hernandez.\n"
      ]
    },
    {
      "cell_type": "markdown",
      "metadata": {},
      "source": [
        "---\n",
        "## <font color = #0080ff> We will start by setting up a simple Clustering problem</font>\n",
        "Response Variable : **Response**     \n",
        "Predictor Feature : **Income**    \n",
        "\n",
        "Extract the variables and the associated data as a Pandas `DataFrame`."
      ]
    },
    {
      "cell_type": "code",
      "execution_count": null,
      "metadata": {},
      "outputs": [],
      "source": []
    },
    {
      "cell_type": "code",
      "execution_count": 5,
      "metadata": {
        "id": "EH9DpRGLesBa"
      },
      "outputs": [],
      "source": [
        "income = pd.DataFrame(marketingdata['Income'])\n",
        "income['Income'] = income['Income'].fillna(0)\n",
        "mthwine = pd.DataFrame(marketingdata['MntWines'])"
      ]
    },
    {
      "cell_type": "code",
      "execution_count": 6,
      "metadata": {
        "colab": {
          "base_uri": "https://localhost:8080/",
          "height": 285
        },
        "id": "WJfn1pNlf1tk",
        "outputId": "5795aeac-c65c-49af-ea81-a18e88406c84"
      },
      "outputs": [
        {
          "data": {
            "text/plain": [
              "<AxesSubplot:>"
            ]
          },
          "execution_count": 6,
          "metadata": {},
          "output_type": "execute_result"
        },
        {
          "data": {
            "image/png": "[encoded data removed]",
            "text/plain": [
              "<Figure size 1728x288 with 1 Axes>"
            ]
          },
          "metadata": {},
          "output_type": "display_data"
        }
      ],
      "source": [
        "f = plt.figure(figsize=(24, 4))\n",
        "sb.boxplot(data = income, orient = \"h\")"
      ]
    },
    {
      "cell_type": "code",
      "execution_count": null,
      "metadata": {},
      "outputs": [],
      "source": []
    },
    {
      "cell_type": "code",
      "execution_count": null,
      "metadata": {},
      "outputs": [],
      "source": []
    },
    {
      "cell_type": "code",
      "execution_count": null,
      "metadata": {},
      "outputs": [],
      "source": []
    },
    {
      "cell_type": "code",
      "execution_count": null,
      "metadata": {},
      "outputs": [],
      "source": []
    },
    {
      "cell_type": "code",
      "execution_count": 7,
      "metadata": {},
      "outputs": [],
      "source": [
        "from sklearn.linear_model import LinearRegression\n",
        "from sklearn.model_selection import train_test_split\n",
        "from sklearn.metrics import mean_squared_error\n",
        "\n",
        "# Create a Linear Regression object\n",
        "linreg = LinearRegression()"
      ]
    },
    {
      "cell_type": "code",
      "execution_count": 8,
      "metadata": {
        "id": "fG0dIelihrcb"
      },
      "outputs": [],
      "source": [
        "def linearRegression(dataframe1, dataframe2):\n",
        "    # Split the Dataset into Train and Test\n",
        "    X_train, X_test, y_train, y_test = train_test_split(dataframe1, dataframe2, test_size = 0.25)\n",
        "\n",
        "    # Linear Regression using Train Data\n",
        "    linreg = LinearRegression()         # create the linear regression object\n",
        "    linreg.fit(X_train, y_train)        # train the linear regression model\n",
        "\n",
        "    # Coefficients of the Linear Regression line\n",
        "    print('Intercept of Regression \\t: b = ', linreg.intercept_)\n",
        "    print('Coefficients of Regression \\t: a = ', linreg.coef_)\n",
        "    print()\n",
        "\n",
        "    # Predict Total values corresponding to HP\n",
        "    y_train_pred = linreg.predict(X_train)\n",
        "    y_test_pred = linreg.predict(X_test)\n",
        "\n",
        "    # Check the Goodness of Fit (on Train Data)\n",
        "    print(\"Goodness of Fit of Model \\tTrain Dataset\")\n",
        "    print(\"Explained Variance (R^2) \\t:\", linreg.score(X_train, y_train))\n",
        "    print(\"Mean Squared Error (MSE) \\t:\", mean_squared_error(y_train, y_train_pred))\n",
        "    print()\n",
        "\n",
        "    # Check the Goodness of Fit (on Test Data)\n",
        "    print(\"Goodness of Fit of Model \\tTest Dataset\")\n",
        "    print(\"Explained Variance (R^2) \\t:\", linreg.score(X_test, y_test))\n",
        "    print(\"Mean Squared Error (MSE) \\t:\", mean_squared_error(y_test, y_test_pred))\n",
        "    print()\n",
        "\n",
        "    # Plot the Linear Regression line\n",
        "    f = plt.figure(figsize=(16, 8))\n",
        "    plt.scatter(X_train, y_train)\n",
        "    regline_x = X_train\n",
        "    regline_y = linreg.intercept_ + linreg.coef_ * X_train\n",
        "    plt.plot(regline_x, regline_y, 'r-', linewidth = 3)\n",
        "    plt.show()\n",
        "    return mean_squared_error(y_test, y_test_pred)"
      ]
    },
    {
      "cell_type": "code",
      "execution_count": 9,
      "metadata": {},
      "outputs": [
        {
          "name": "stdout",
          "output_type": "stream",
          "text": [
            "Intercept of Regression \t: b =  [-46.96967392]\n",
            "Coefficients of Regression \t: a =  [[0.00688772]]\n",
            "\n",
            "Goodness of Fit of Model \tTrain Dataset\n",
            "Explained Variance (R^2) \t: 0.2983174389087446\n",
            "Mean Squared Error (MSE) \t: 79734.68739453483\n",
            "\n",
            "Goodness of Fit of Model \tTest Dataset\n",
            "Explained Variance (R^2) \t: 0.3944335029880077\n",
            "Mean Squared Error (MSE) \t: 67266.02076776884\n",
            "\n"
          ]
        },
        {
          "data": {
            "image/png": "[encoded data removed]",
            "text/plain": [
              "<Figure size 1152x576 with 1 Axes>"
            ]
          },
          "metadata": {},
          "output_type": "display_data"
        },
        {
          "data": {
            "text/plain": [
              "67266.02076776884"
            ]
          },
          "execution_count": 9,
          "metadata": {},
          "output_type": "execute_result"
        }
      ],
      "source": [
        "linearRegression(income, mthwine)"
      ]
    },
    {
      "cell_type": "code",
      "execution_count": null,
      "metadata": {},
      "outputs": [],
      "source": []
    }
  ],
  "metadata": {
    "colab": {
      "name": "Assignment.ipynb",
      "provenance": []
    },
    "interpreter": {
      "hash": "2be5faf79681da6f2a61fdfdd5405d65d042280f7fba6178067603e3a2925119"
    },
    "kernelspec": {
      "display_name": "Python 3.10.0 64-bit",
      "language": "python",
      "name": "python3"
    },
    "language_info": {
      "codemirror_mode": {
        "name": "ipython",
        "version": 3
      },
      "file_extension": ".py",
      "mimetype": "text/x-python",
      "name": "python",
      "nbconvert_exporter": "python",
      "pygments_lexer": "ipython3",
      "version": "3.8.8"
    },
    "orig_nbformat": 4
  },
  "nbformat": 4,
  "nbformat_minor": 0
}
