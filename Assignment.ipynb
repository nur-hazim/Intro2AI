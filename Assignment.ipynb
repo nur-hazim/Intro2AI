{
  "cells": [
    {
      "cell_type": "markdown",
      "metadata": {},
      "source": [
        "# <font color='#0080ff'> SC1015 DS Project </font>"
      ]
    },
    {
      "cell_type": "markdown",
      "metadata": {},
      "source": [
        "### Essential Libraries\n",
        "\n",
        "Let us begin by importing the essential Python Libraries.\n",
        "\n",
        "> NumPy : Library for Numeric Computations in Python  \n",
        "> Pandas : Library for Data Acquisition and Preparation  \n",
        "> Matplotlib : Low-level library for Data Visualization  \n",
        "> Seaborn : Higher-level library for Data Visualization  "
      ]
    },
    {
      "cell_type": "code",
      "execution_count": 1,
      "metadata": {},
      "outputs": [],
      "source": [
        "# Basic Libraries\n",
        "import numpy as np\n",
        "import pandas as pd\n",
        "import seaborn as sb\n",
        "import matplotlib.pyplot as plt # we only need pyplot\n",
        "sb.set() # set the default Seaborn style for graphics"
      ]
    },
    {
      "cell_type": "markdown",
      "metadata": {},
      "source": [
        "---\n",
        "\n",
        "### Import the Dataset\n",
        "\n",
        "The dataset is in CSV format; hence we use the `read_csv` function from Pandas.\n",
        "\n",
        "We use sep='\\t' to read tab-delimited data in csv format. \n",
        "\n",
        "Immediately after importing, take a quick look at the data using the `head` function."
      ]
    },
    {
      "cell_type": "code",
      "execution_count": 2,
      "metadata": {
        "id": "gwW5_BuTePDR"
      },
      "outputs": [
        {
          "data": {
            "text/html": [
              "<div>\n",
              "<style scoped>\n",
              "    .dataframe tbody tr th:only-of-type {\n",
              "        vertical-align: middle;\n",
              "    }\n",
              "\n",
              "    .dataframe tbody tr th {\n",
              "        vertical-align: top;\n",
              "    }\n",
              "\n",
              "    .dataframe thead th {\n",
              "        text-align: right;\n",
              "    }\n",
              "</style>\n",
              "<table border=\"1\" class=\"dataframe\">\n",
              "  <thead>\n",
              "    <tr style=\"text-align: right;\">\n",
              "      <th></th>\n",
              "      <th>ID</th>\n",
              "      <th>Year_Birth</th>\n",
              "      <th>Education</th>\n",
              "      <th>Marital_Status</th>\n",
              "      <th>Income</th>\n",
              "      <th>Kidhome</th>\n",
              "      <th>Teenhome</th>\n",
              "      <th>Dt_Customer</th>\n",
              "      <th>Recency</th>\n",
              "      <th>MntWines</th>\n",
              "      <th>...</th>\n",
              "      <th>NumCatalogPurchases</th>\n",
              "      <th>NumStorePurchases</th>\n",
              "      <th>NumWebVisitsMonth</th>\n",
              "      <th>AcceptedCmp3</th>\n",
              "      <th>AcceptedCmp4</th>\n",
              "      <th>AcceptedCmp5</th>\n",
              "      <th>AcceptedCmp1</th>\n",
              "      <th>AcceptedCmp2</th>\n",
              "      <th>Complain</th>\n",
              "      <th>Response</th>\n",
              "    </tr>\n",
              "  </thead>\n",
              "  <tbody>\n",
              "    <tr>\n",
              "      <th>0</th>\n",
              "      <td>\\n5524</td>\n",
              "      <td>1957.0</td>\n",
              "      <td>Graduation</td>\n",
              "      <td>Single</td>\n",
              "      <td>58138.0</td>\n",
              "      <td>0.0</td>\n",
              "      <td>0.0</td>\n",
              "      <td>04-09-2012</td>\n",
              "      <td>58.0</td>\n",
              "      <td>635.0</td>\n",
              "      <td>...</td>\n",
              "      <td>10.0</td>\n",
              "      <td>4.0</td>\n",
              "      <td>7.0</td>\n",
              "      <td>0.0</td>\n",
              "      <td>0.0</td>\n",
              "      <td>0.0</td>\n",
              "      <td>0.0</td>\n",
              "      <td>0.0</td>\n",
              "      <td>0.0</td>\n",
              "      <td>1.0</td>\n",
              "    </tr>\n",
              "    <tr>\n",
              "      <th>1</th>\n",
              "      <td>\\n2174</td>\n",
              "      <td>1954.0</td>\n",
              "      <td>Graduation</td>\n",
              "      <td>Single</td>\n",
              "      <td>46344.0</td>\n",
              "      <td>1.0</td>\n",
              "      <td>1.0</td>\n",
              "      <td>08-03-2014</td>\n",
              "      <td>38.0</td>\n",
              "      <td>11.0</td>\n",
              "      <td>...</td>\n",
              "      <td>1.0</td>\n",
              "      <td>2.0</td>\n",
              "      <td>5.0</td>\n",
              "      <td>0.0</td>\n",
              "      <td>0.0</td>\n",
              "      <td>0.0</td>\n",
              "      <td>0.0</td>\n",
              "      <td>0.0</td>\n",
              "      <td>0.0</td>\n",
              "      <td>0.0</td>\n",
              "    </tr>\n",
              "    <tr>\n",
              "      <th>2</th>\n",
              "      <td>\\n4141</td>\n",
              "      <td>1965.0</td>\n",
              "      <td>Graduation</td>\n",
              "      <td>Together</td>\n",
              "      <td>71613.0</td>\n",
              "      <td>0.0</td>\n",
              "      <td>0.0</td>\n",
              "      <td>21-08-2013</td>\n",
              "      <td>26.0</td>\n",
              "      <td>426.0</td>\n",
              "      <td>...</td>\n",
              "      <td>2.0</td>\n",
              "      <td>10.0</td>\n",
              "      <td>4.0</td>\n",
              "      <td>0.0</td>\n",
              "      <td>0.0</td>\n",
              "      <td>0.0</td>\n",
              "      <td>0.0</td>\n",
              "      <td>0.0</td>\n",
              "      <td>0.0</td>\n",
              "      <td>0.0</td>\n",
              "    </tr>\n",
              "    <tr>\n",
              "      <th>3</th>\n",
              "      <td>\\n6182</td>\n",
              "      <td>1984.0</td>\n",
              "      <td>Graduation</td>\n",
              "      <td>Together</td>\n",
              "      <td>26646.0</td>\n",
              "      <td>1.0</td>\n",
              "      <td>0.0</td>\n",
              "      <td>10-02-2014</td>\n",
              "      <td>26.0</td>\n",
              "      <td>11.0</td>\n",
              "      <td>...</td>\n",
              "      <td>0.0</td>\n",
              "      <td>4.0</td>\n",
              "      <td>6.0</td>\n",
              "      <td>0.0</td>\n",
              "      <td>0.0</td>\n",
              "      <td>0.0</td>\n",
              "      <td>0.0</td>\n",
              "      <td>0.0</td>\n",
              "      <td>0.0</td>\n",
              "      <td>0.0</td>\n",
              "    </tr>\n",
              "    <tr>\n",
              "      <th>4</th>\n",
              "      <td>\\n5324</td>\n",
              "      <td>1981.0</td>\n",
              "      <td>PhD</td>\n",
              "      <td>Married</td>\n",
              "      <td>58293.0</td>\n",
              "      <td>1.0</td>\n",
              "      <td>0.0</td>\n",
              "      <td>19-01-2014</td>\n",
              "      <td>94.0</td>\n",
              "      <td>173.0</td>\n",
              "      <td>...</td>\n",
              "      <td>3.0</td>\n",
              "      <td>6.0</td>\n",
              "      <td>5.0</td>\n",
              "      <td>0.0</td>\n",
              "      <td>0.0</td>\n",
              "      <td>0.0</td>\n",
              "      <td>0.0</td>\n",
              "      <td>0.0</td>\n",
              "      <td>0.0</td>\n",
              "      <td>0.0</td>\n",
              "    </tr>\n",
              "  </tbody>\n",
              "</table>\n",
              "<p>5 rows × 27 columns</p>\n",
              "</div>"
            ],
            "text/plain": [
              "       ID  Year_Birth   Education Marital_Status   Income  Kidhome  Teenhome  \\\n",
              "0  \\n5524      1957.0  Graduation         Single  58138.0      0.0       0.0   \n",
              "1  \\n2174      1954.0  Graduation         Single  46344.0      1.0       1.0   \n",
              "2  \\n4141      1965.0  Graduation       Together  71613.0      0.0       0.0   \n",
              "3  \\n6182      1984.0  Graduation       Together  26646.0      1.0       0.0   \n",
              "4  \\n5324      1981.0         PhD        Married  58293.0      1.0       0.0   \n",
              "\n",
              "  Dt_Customer  Recency  MntWines  ...  NumCatalogPurchases  NumStorePurchases  \\\n",
              "0  04-09-2012     58.0     635.0  ...                 10.0                4.0   \n",
              "1  08-03-2014     38.0      11.0  ...                  1.0                2.0   \n",
              "2  21-08-2013     26.0     426.0  ...                  2.0               10.0   \n",
              "3  10-02-2014     26.0      11.0  ...                  0.0                4.0   \n",
              "4  19-01-2014     94.0     173.0  ...                  3.0                6.0   \n",
              "\n",
              "   NumWebVisitsMonth  AcceptedCmp3  AcceptedCmp4  AcceptedCmp5  AcceptedCmp1  \\\n",
              "0                7.0           0.0           0.0           0.0           0.0   \n",
              "1                5.0           0.0           0.0           0.0           0.0   \n",
              "2                4.0           0.0           0.0           0.0           0.0   \n",
              "3                6.0           0.0           0.0           0.0           0.0   \n",
              "4                5.0           0.0           0.0           0.0           0.0   \n",
              "\n",
              "   AcceptedCmp2  Complain  Response  \n",
              "0           0.0       0.0       1.0  \n",
              "1           0.0       0.0       0.0  \n",
              "2           0.0       0.0       0.0  \n",
              "3           0.0       0.0       0.0  \n",
              "4           0.0       0.0       0.0  \n",
              "\n",
              "[5 rows x 27 columns]"
            ]
          },
          "execution_count": 2,
          "metadata": {},
          "output_type": "execute_result"
        }
      ],
      "source": [
        "marketingdata = pd.read_csv('marketing_campaign.csv', sep='\\t', lineterminator='\\r')\n",
        "marketingdata= marketingdata.drop(['Z_CostContact','Z_Revenue'],axis=1)\n",
        "marketingdata.head()"
      ]
    },
    {
      "cell_type": "markdown",
      "metadata": {},
      "source": [
        "We then check the other vital statistics of the data such as its `type` and `shape`"
      ]
    },
    {
      "cell_type": "code",
      "execution_count": 3,
      "metadata": {},
      "outputs": [
        {
          "name": "stdout",
          "output_type": "stream",
          "text": [
            "Type of the data: <class 'pandas.core.frame.DataFrame'>\n",
            "Dims of the data: (2241, 27)\n"
          ]
        }
      ],
      "source": [
        "print('Type of the data:', type(marketingdata))\n",
        "print('Dims of the data:', marketingdata.shape)\n"
      ]
    },
    {
      "cell_type": "markdown",
      "metadata": {},
      "source": [
        "Check the variables (and their types) in the dataset using the `dtypes` attribute."
      ]
    },
    {
      "cell_type": "code",
      "execution_count": 4,
      "metadata": {},
      "outputs": [
        {
          "name": "stdout",
          "output_type": "stream",
          "text": [
            "ID                      object\n",
            "Year_Birth             float64\n",
            "Education               object\n",
            "Marital_Status          object\n",
            "Income                 float64\n",
            "Kidhome                float64\n",
            "Teenhome               float64\n",
            "Dt_Customer             object\n",
            "Recency                float64\n",
            "MntWines               float64\n",
            "MntFruits              float64\n",
            "MntMeatProducts        float64\n",
            "MntFishProducts        float64\n",
            "MntSweetProducts       float64\n",
            "MntGoldProds           float64\n",
            "NumDealsPurchases      float64\n",
            "NumWebPurchases        float64\n",
            "NumCatalogPurchases    float64\n",
            "NumStorePurchases      float64\n",
            "NumWebVisitsMonth      float64\n",
            "AcceptedCmp3           float64\n",
            "AcceptedCmp4           float64\n",
            "AcceptedCmp5           float64\n",
            "AcceptedCmp1           float64\n",
            "AcceptedCmp2           float64\n",
            "Complain               float64\n",
            "Response               float64\n",
            "dtype: object\n"
          ]
        }
      ],
      "source": [
        "print(marketingdata.dtypes)"
      ]
    },
    {
      "cell_type": "markdown",
      "metadata": {},
      "source": [
        "---\n",
        "## <font color = #0080ff> Context </font>\n",
        "Our group will be exploring this data set on Kaggle which is Customer Personalirt Analysis by Akash Patel.\n",
        "</br>Source: https://www.kaggle.com/imakash3011/customer-personality-analysis\n",
        "\n",
        "### <font color = #00cc99>Problem Statement(We can edit)</font>\n",
        "\n",
        "Customer Personality Analysis is a detailed analysis of a company’s ideal customers. It helps a business to better understand its customers and makes it easier for them to modify products according to the specific needs, behaviors and concerns of different types of customers.\n",
        "\n",
        "Customer personality analysis helps a business to modify its product based on its target customers from different types of customer segments. For example, instead of spending money to market a new product to every customer in the company’s database, a company can analyze which customer segment is most likely to buy the product and then market the product only on that particular segment.\n",
        "\n",
        "### <font color = #00cc99>Content </font>\n",
        "\n",
        "#### **Attributes**\n",
        "\n",
        "##### <font color = #ff9999>People</font>\n",
        "\n",
        ">* ID: Customer's unique identifier\n",
        ">* Year_Birth: Customer's birth year\n",
        ">* Education: Customer's education level\n",
        ">* Marital_Status: Customer's marital status\n",
        ">* Income: Customer's yearly household income\n",
        ">* Kidhome: Number of children in customer's household\n",
        ">* Teenhome: Number of teenagers in customer's household\n",
        ">* Dt_Customer: Date of customer's enrollment with the company\n",
        ">* Recency: Number of days since customer's last purchase\n",
        ">* Complain: 1 if the customer complained in the last 2 years, 0 otherwise\n",
        "\n",
        "##### <font color = #ff9999>Products</font>\n",
        "\n",
        ">* MntWines: Amount spent on wine in last 2 years\n",
        ">* MntFruits: Amount spent on fruits in last 2 years\n",
        ">* MntMeatProducts: Amount spent on meat in last 2 years\n",
        ">* MntFishProducts: Amount spent on fish in last 2 years\n",
        ">* MntSweetProducts: Amount spent on sweets in last 2 years\n",
        ">* MntGoldProds: Amount spent on gold in last 2 years\n",
        "\n",
        "##### <font color = #ff9999>Promotion</font>\n",
        "\n",
        ">* NumDealsPurchases: Number of purchases made with a discount\n",
        ">* AcceptedCmp1: 1 if customer accepted the offer in the 1st campaign, 0 otherwise\n",
        ">* AcceptedCmp2: 1 if customer accepted the offer in the 2nd campaign, 0 otherwise\n",
        ">* AcceptedCmp3: 1 if customer accepted the offer in the 3rd campaign, 0 otherwise\n",
        ">* AcceptedCmp4: 1 if customer accepted the offer in the 4th campaign, 0 otherwise\n",
        ">* AcceptedCmp5: 1 if customer accepted the offer in the 5th campaign, 0 otherwise\n",
        ">* Response: 1 if customer accepted the offer in the last campaign, 0 otherwise\n",
        "\n",
        "##### <font color = #ff9999>Place</font>\n",
        "\n",
        ">* NumWebPurchases: Number of purchases made through the company’s website\n",
        ">* NumCatalogPurchases: Number of purchases made using a catalogue\n",
        ">* NumStorePurchases: Number of purchases made directly in stores\n",
        ">* NumWebVisitsMonth: Number of visits to company’s website in the last month\n",
        "\n",
        "### <font color = #00cc99>Target (We can edit)</font>\n",
        "We will be performing **Classification** first to identify which factors which results in the greatest response which the customer accept the offer in the last campaign which allows the company to cater towards customers which fall within this category and also come up with new promotions or survey the customers which fall into the other category on why they did not follow up with the offer in the last campaign.\n",
        "\n",
        "Next we will perform **Clustering** to to cluster and find out which groups are more likely to accept the offer in the last campaign so that the company can focus their promotions to such customers more.\n",
        "\n",
        "### <font color = #00cc99>Acknowledgement</font>\n",
        "The dataset for this project is provided by Dr. Omar Romero-Hernandez.\n"
      ]
    },
    {
      "cell_type": "markdown",
      "metadata": {},
      "source": [
        "---\n",
        "## <font color = #0080ff> We will start by setting up a simple Classfication problem</font>\n",
        "Response Variable : **Response**     \n",
        "Predictor Feature : **Income,MntWines,MntFruits,MntMeatProducts,MntFishProducts,MntSweetProducts,MntGoldProds, AcceptedCmp1,AcceptedCmp2,AcceptedCmp3,AcceptedCmp4,AcceptedCmp5**   \n",
        "\n",
        "Extract the variables and the associated data as a Pandas `DataFrame`."
      ]
    },
    {
      "cell_type": "code",
      "execution_count": 5,
      "metadata": {
        "id": "EH9DpRGLesBa"
      },
      "outputs": [],
      "source": [
        "response = pd.DataFrame(marketingdata['Response']) #Response\n",
        "predictor = pd.DataFrame(marketingdata[['Income','MntWines','MntFruits','MntMeatProducts','MntFishProducts','MntSweetProducts','MntGoldProds', 'AcceptedCmp1','AcceptedCmp2','AcceptedCmp3','AcceptedCmp4','AcceptedCmp5']]) #Predictor"
      ]
    },
    {
      "cell_type": "code",
      "execution_count": 6,
      "metadata": {},
      "outputs": [
        {
          "name": "stdout",
          "output_type": "stream",
          "text": [
            "<class 'pandas.core.frame.DataFrame'>\n",
            "RangeIndex: 2241 entries, 0 to 2240\n",
            "Data columns (total 1 columns):\n",
            " #   Column    Non-Null Count  Dtype  \n",
            "---  ------    --------------  -----  \n",
            " 0   Response  2240 non-null   float64\n",
            "dtypes: float64(1)\n",
            "memory usage: 17.6 KB\n",
            "\n",
            "<class 'pandas.core.frame.DataFrame'>\n",
            "RangeIndex: 2241 entries, 0 to 2240\n",
            "Data columns (total 12 columns):\n",
            " #   Column            Non-Null Count  Dtype  \n",
            "---  ------            --------------  -----  \n",
            " 0   Income            2216 non-null   float64\n",
            " 1   MntWines          2240 non-null   float64\n",
            " 2   MntFruits         2240 non-null   float64\n",
            " 3   MntMeatProducts   2240 non-null   float64\n",
            " 4   MntFishProducts   2240 non-null   float64\n",
            " 5   MntSweetProducts  2240 non-null   float64\n",
            " 6   MntGoldProds      2240 non-null   float64\n",
            " 7   AcceptedCmp1      2240 non-null   float64\n",
            " 8   AcceptedCmp2      2240 non-null   float64\n",
            " 9   AcceptedCmp3      2240 non-null   float64\n",
            " 10  AcceptedCmp4      2240 non-null   float64\n",
            " 11  AcceptedCmp5      2240 non-null   float64\n",
            "dtypes: float64(12)\n",
            "memory usage: 210.2 KB\n"
          ]
        }
      ],
      "source": [
        "response.info()\n",
        "print()\n",
        "predictor.info()"
      ]
    },
    {
      "cell_type": "code",
      "execution_count": 7,
      "metadata": {},
      "outputs": [
        {
          "name": "stdout",
          "output_type": "stream",
          "text": [
            "0.0    1906\n",
            "1.0     334\n",
            "Name: Response, dtype: int64 \n",
            "\n"
          ]
        },
        {
          "data": {
            "text/plain": [
              "<seaborn.axisgrid.FacetGrid at 0x203158f1a60>"
            ]
          },
          "execution_count": 7,
          "metadata": {},
          "output_type": "execute_result"
        },
        {
          "data": {
            "image/png": "[encoded data removed]",
            "text/plain": [
              "<Figure size 360x360 with 1 Axes>"
            ]
          },
          "metadata": {},
          "output_type": "display_data"
        }
      ],
      "source": [
        "# Summary Statistics for Response\n",
        "print(response[\"Response\"].value_counts(), '\\n')\n",
        "\n",
        "# Plot the distributions of Response\n",
        "sb.catplot(y = 'Response', data = response, kind = 'count')"
      ]
    },
    {
      "cell_type": "code",
      "execution_count": null,
      "metadata": {},
      "outputs": [],
      "source": []
    },
    {
      "cell_type": "code",
      "execution_count": null,
      "metadata": {},
      "outputs": [],
      "source": []
    },
    {
      "cell_type": "code",
      "execution_count": null,
      "metadata": {},
      "outputs": [],
      "source": []
    },
    {
      "cell_type": "code",
      "execution_count": null,
      "metadata": {},
      "outputs": [],
      "source": []
    },
    {
      "cell_type": "code",
      "execution_count": null,
      "metadata": {},
      "outputs": [],
      "source": []
    },
    {
      "cell_type": "code",
      "execution_count": null,
      "metadata": {},
      "outputs": [],
      "source": []
    }
  ],
  "metadata": {
    "colab": {
      "name": "Assignment.ipynb",
      "provenance": []
    },
    "interpreter": {
      "hash": "2be5faf79681da6f2a61fdfdd5405d65d042280f7fba6178067603e3a2925119"
    },
    "kernelspec": {
      "display_name": "Python 3.10.0 64-bit",
      "language": "python",
      "name": "python3"
    },
    "language_info": {
      "codemirror_mode": {
        "name": "ipython",
        "version": 3
      },
      "file_extension": ".py",
      "mimetype": "text/x-python",
      "name": "python",
      "nbconvert_exporter": "python",
      "pygments_lexer": "ipython3",
      "version": "3.8.8"
    },
    "orig_nbformat": 4
  },
  "nbformat": 4,
  "nbformat_minor": 0
}
