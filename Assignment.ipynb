{
 "cells": [
  {
   "cell_type": "code",
   "execution_count": 1,
   "metadata": {},
   "outputs": [],
   "source": [
    "# Basic Libraries\n",
    "import numpy as np\n",
    "import pandas as pd\n",
    "import seaborn as sb\n",
    "import matplotlib.pyplot as plt # we only need pyplot\n",
    "sb.set() # set the default Seaborn style for graphics\n",
    "\n",
    "from sklearn.linear_model import LinearRegression\n",
    "from sklearn.model_selection import train_test_split\n",
    "from sklearn.metrics import mean_squared_error\n",
    "\n",
    "# Create a Linear Regression object\n",
    "linreg = LinearRegression()\n",
    "\n",
    "\n",
    "marketingdata = pd.read_csv('marketing_campaign.csv')"
   ]
  },
  {
   "cell_type": "code",
   "execution_count": 2,
   "metadata": {},
   "outputs": [
    {
     "data": {
      "text/html": [
       "<div>\n",
       "<style scoped>\n",
       "    .dataframe tbody tr th:only-of-type {\n",
       "        vertical-align: middle;\n",
       "    }\n",
       "\n",
       "    .dataframe tbody tr th {\n",
       "        vertical-align: top;\n",
       "    }\n",
       "\n",
       "    .dataframe thead th {\n",
       "        text-align: right;\n",
       "    }\n",
       "</style>\n",
       "<table border=\"1\" class=\"dataframe\">\n",
       "  <thead>\n",
       "    <tr style=\"text-align: right;\">\n",
       "      <th></th>\n",
       "      <th>ID\\tYear_Birth\\tEducation\\tMarital_Status\\tIncome\\tKidhome\\tTeenhome\\tDt_Customer\\tRecency\\tMntWines\\tMntFruits\\tMntMeatProducts\\tMntFishProducts\\tMntSweetProducts\\tMntGoldProds\\tNumDealsPurchases\\tNumWebPurchases\\tNumCatalogPurchases\\tNumStorePurchases\\tNumWebVisitsMonth\\tAcceptedCmp3\\tAcceptedCmp4\\tAcceptedCmp5\\tAcceptedCmp1\\tAcceptedCmp2\\tComplain\\tZ_CostContact\\tZ_Revenue\\tResponse</th>\n",
       "    </tr>\n",
       "  </thead>\n",
       "  <tbody>\n",
       "    <tr>\n",
       "      <th>1316</th>\n",
       "      <td>4554\\t1965\\tGraduation\\tTogether\\t47009\\t0\\t1\\...</td>\n",
       "    </tr>\n",
       "    <tr>\n",
       "      <th>1415</th>\n",
       "      <td>6376\\t1979\\tGraduation\\tSingle\\t57537\\t1\\t0\\t1...</td>\n",
       "    </tr>\n",
       "    <tr>\n",
       "      <th>1188</th>\n",
       "      <td>4088\\t1962\\tPhD\\tTogether\\t31497\\t0\\t1\\t06-12-...</td>\n",
       "    </tr>\n",
       "    <tr>\n",
       "      <th>2230</th>\n",
       "      <td>7004\\t1984\\tGraduation\\tSingle\\t11012\\t1\\t0\\t1...</td>\n",
       "    </tr>\n",
       "    <tr>\n",
       "      <th>2180</th>\n",
       "      <td>1321\\t1974\\tGraduation\\tMarried\\t26067\\t1\\t0\\t...</td>\n",
       "    </tr>\n",
       "    <tr>\n",
       "      <th>2008</th>\n",
       "      <td>6870\\t1959\\tPhD\\tDivorced\\t68805\\t0\\t1\\t17-09-...</td>\n",
       "    </tr>\n",
       "    <tr>\n",
       "      <th>1903</th>\n",
       "      <td>2337\\t1971\\tGraduation\\tDivorced\\t29819\\t1\\t0\\...</td>\n",
       "    </tr>\n",
       "    <tr>\n",
       "      <th>1545</th>\n",
       "      <td>10212\\t1986\\tMaster\\tTogether\\t42386\\t1\\t0\\t13...</td>\n",
       "    </tr>\n",
       "    <tr>\n",
       "      <th>2115</th>\n",
       "      <td>9907\\t1969\\tMaster\\tTogether\\t66476\\t0\\t1\\t04-...</td>\n",
       "    </tr>\n",
       "    <tr>\n",
       "      <th>2031</th>\n",
       "      <td>3799\\t1955\\tGraduation\\tMarried\\t67225\\t0\\t1\\t...</td>\n",
       "    </tr>\n",
       "  </tbody>\n",
       "</table>\n",
       "</div>"
      ],
      "text/plain": [
       "     ID\\tYear_Birth\\tEducation\\tMarital_Status\\tIncome\\tKidhome\\tTeenhome\\tDt_Customer\\tRecency\\tMntWines\\tMntFruits\\tMntMeatProducts\\tMntFishProducts\\tMntSweetProducts\\tMntGoldProds\\tNumDealsPurchases\\tNumWebPurchases\\tNumCatalogPurchases\\tNumStorePurchases\\tNumWebVisitsMonth\\tAcceptedCmp3\\tAcceptedCmp4\\tAcceptedCmp5\\tAcceptedCmp1\\tAcceptedCmp2\\tComplain\\tZ_CostContact\\tZ_Revenue\\tResponse\n",
       "1316  4554\\t1965\\tGraduation\\tTogether\\t47009\\t0\\t1\\...                                                                                                                                                                                                                                                                                                                                                  \n",
       "1415  6376\\t1979\\tGraduation\\tSingle\\t57537\\t1\\t0\\t1...                                                                                                                                                                                                                                                                                                                                                  \n",
       "1188  4088\\t1962\\tPhD\\tTogether\\t31497\\t0\\t1\\t06-12-...                                                                                                                                                                                                                                                                                                                                                  \n",
       "2230  7004\\t1984\\tGraduation\\tSingle\\t11012\\t1\\t0\\t1...                                                                                                                                                                                                                                                                                                                                                  \n",
       "2180  1321\\t1974\\tGraduation\\tMarried\\t26067\\t1\\t0\\t...                                                                                                                                                                                                                                                                                                                                                  \n",
       "2008  6870\\t1959\\tPhD\\tDivorced\\t68805\\t0\\t1\\t17-09-...                                                                                                                                                                                                                                                                                                                                                  \n",
       "1903  2337\\t1971\\tGraduation\\tDivorced\\t29819\\t1\\t0\\...                                                                                                                                                                                                                                                                                                                                                  \n",
       "1545  10212\\t1986\\tMaster\\tTogether\\t42386\\t1\\t0\\t13...                                                                                                                                                                                                                                                                                                                                                  \n",
       "2115  9907\\t1969\\tMaster\\tTogether\\t66476\\t0\\t1\\t04-...                                                                                                                                                                                                                                                                                                                                                  \n",
       "2031  3799\\t1955\\tGraduation\\tMarried\\t67225\\t0\\t1\\t...                                                                                                                                                                                                                                                                                                                                                  "
      ]
     },
     "execution_count": 2,
     "metadata": {},
     "output_type": "execute_result"
    }
   ],
   "source": [
    "marketingdata.head()\n",
    "marketingdata.sample(n=10)"
   ]
  },
  {
   "cell_type": "code",
   "execution_count": null,
   "metadata": {},
   "outputs": [],
   "source": []
  }
 ],
 "metadata": {
  "interpreter": {
   "hash": "2be5faf79681da6f2a61fdfdd5405d65d042280f7fba6178067603e3a2925119"
  },
  "kernelspec": {
   "display_name": "Python 3.10.0 64-bit",
   "language": "python",
   "name": "python3"
  },
  "language_info": {
   "codemirror_mode": {
    "name": "ipython",
    "version": 3
   },
   "file_extension": ".py",
   "mimetype": "text/x-python",
   "name": "python",
   "nbconvert_exporter": "python",
   "pygments_lexer": "ipython3",
   "version": "3.8.8"
  },
  "orig_nbformat": 4
 },
 "nbformat": 4,
 "nbformat_minor": 2
}
